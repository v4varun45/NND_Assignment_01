{
 "cells": [
  {
   "cell_type": "markdown",
   "metadata": {},
   "source": [
    "# 1a)"
   ]
  },
  {
   "cell_type": "code",
   "execution_count": 1,
   "metadata": {},
   "outputs": [
    {
     "name": "stdout",
     "output_type": "stream",
     "text": [
      "Python\n",
      "['P', 'y', 't', 'h', 'o', 'n']\n",
      "['P', 'y', 't', 'n']\n",
      "ntyP\n"
     ]
    }
   ],
   "source": [
    "input_string = 'Python'\n",
    "print(input_string)\n",
    "\n",
    "new_string = list(input_string)\n",
    "print(new_string)\n",
    "\n",
    "del new_string[3:5]\n",
    "print(new_string)\n",
    "\n",
    "output_string = ''.join(reversed(new_string))\n",
    "print(output_string)"
   ]
  },
  {
   "cell_type": "markdown",
   "metadata": {},
   "source": [
    "# 1b)"
   ]
  },
  {
   "cell_type": "code",
   "execution_count": 2,
   "metadata": {},
   "outputs": [
    {
     "name": "stdout",
     "output_type": "stream",
     "text": [
      "Enter the first number: 6\n",
      "Enter the second number: 3\n",
      "Addition of 6.0 and 3.0 is: 9.0\n",
      "Substraction of 6.0 and 3.0 is: 3.0\n",
      "Multiplication of 6.0 and 3.0 is: 18.0\n",
      "Division of 6.0 and 3.0 is: 2.0\n"
     ]
    }
   ],
   "source": [
    "def arthmetic_operations(x,y):\n",
    "    Addition = x + y\n",
    "    print(f\"Addition of {x} and {y} is: {Addition}\")\n",
    "\n",
    "    Substraction = x - y\n",
    "    print(f\"Substraction of {x} and {y} is: {Substraction}\")\n",
    "\n",
    "    Multiplication = x*y\n",
    "    print(f\"Multiplication of {x} and {y} is: {Multiplication}\")\n",
    "\n",
    "    if y==0:\n",
    "        return(\"Cant divide by 0\")\n",
    "    else:\n",
    "        Division = x/y\n",
    "        print(f\"Division of {x} and {y} is: {Division}\")\n",
    "        \n",
    "x = float(input(\"Enter the first number: \"))\n",
    "y = float(input(\"Enter the second number: \"))\n",
    "\n",
    "result = arthmetic_operations(x,y)"
   ]
  },
  {
   "cell_type": "markdown",
   "metadata": {},
   "source": [
    "# 2)"
   ]
  },
  {
   "cell_type": "code",
   "execution_count": 3,
   "metadata": {},
   "outputs": [
    {
     "name": "stdout",
     "output_type": "stream",
     "text": [
      "Enter a sentence: I love playing with python\n",
      "After_replace: I love playing with pythons\n"
     ]
    }
   ],
   "source": [
    "def replace_sentence(sentence):\n",
    "    After_replace = sentence.replace('python','pythons')\n",
    "    return After_replace\n",
    "\n",
    "sentence = input(\"Enter a sentence: \")\n",
    "result = replace_sentence(sentence)\n",
    "print(f\"After_replace: {result}\")"
   ]
  },
  {
   "cell_type": "markdown",
   "metadata": {},
   "source": [
    "# 3)"
   ]
  },
  {
   "cell_type": "code",
   "execution_count": 4,
   "metadata": {},
   "outputs": [
    {
     "name": "stdout",
     "output_type": "stream",
     "text": [
      "Enter the student percentage: 92\n",
      "Student grade is: A\n"
     ]
    }
   ],
   "source": [
    "def grade_calculation(score):\n",
    "    if 90<= score <= 100:\n",
    "        return(\"A\")\n",
    "    elif 80 <= score <= 89:\n",
    "        return(\"B\")\n",
    "    elif 70 <= score <= 79:\n",
    "        return(\"C\")\n",
    "    elif 60 <= score <= 69:\n",
    "        return(\"D\")\n",
    "    elif 0 <= score <= 59:\n",
    "        return(\"F,\" + \" Student must retake the subject again\")\n",
    "    else:\n",
    "        return(\"Invalid score\")\n",
    "        \n",
    "score = float(input(\"Enter the student percentage: \"))\n",
    "if 0 <= score <= 100:\n",
    "    Grade =  grade_calculation(score)\n",
    "    print(f\"Student grade is: {Grade}\")\n",
    "else:\n",
    "    print(\"Please enter the student percentage from 0 to 100\")"
   ]
  }
 ],
 "metadata": {
  "kernelspec": {
   "display_name": "Python 3",
   "language": "python",
   "name": "python3"
  },
  "language_info": {
   "codemirror_mode": {
    "name": "ipython",
    "version": 3
   },
   "file_extension": ".py",
   "mimetype": "text/x-python",
   "name": "python",
   "nbconvert_exporter": "python",
   "pygments_lexer": "ipython3",
   "version": "3.8.5"
  }
 },
 "nbformat": 4,
 "nbformat_minor": 4
}
